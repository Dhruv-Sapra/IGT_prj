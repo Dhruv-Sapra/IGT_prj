{
 "cells": [
  {
   "cell_type": "code",
   "execution_count": 4,
   "id": "648bd7db",
   "metadata": {},
   "outputs": [],
   "source": [
    "import pandas as pd\n",
    "import csv\n",
    "\n",
    "# Read the original CSV file\n",
    "df = pd.read_csv(\"C:\\\\Users\\\\thesp\\\\Desktop\\\\IGT PROJECT\\\\CSV\\\\Rawcsv\\\\23 A-2 Madhya Pradesh (1).csv\")\n",
    "\n",
    "# Filter rows with census values equal to 2001 or 2011\n",
    "filtered_df = df[df['Census'].isin([2001, 2011])]\n",
    "\n",
    "# Save the filtered data to a new CSV file\n",
    "filtered_df.to_csv(\"C:\\\\Users\\\\thesp\\\\Desktop\\\\23 A-2 Madhya Pradesh (1)M\", index=False)\n"
   ]
  },
  {
   "cell_type": "code",
   "execution_count": 2,
   "id": "db6a809d",
   "metadata": {},
   "outputs": [],
   "source": [
    "\n",
    "\n",
    "# Read the original CSV file\n",
    "#df = pd.read_csv(\"C:\\\\Users\\\\thesp\\\\Desktop\\\\CSV\\\\Plotcsv\\\\12 A-2 Arunachal PradeshM.csv\")\n",
    "df = filtered_df\n",
    "# Create an empty list to store the unique locations\n",
    "location_list = []\n",
    "\n",
    "# Create empty lists to store the values\n",
    "population_2001_list = []\n",
    "population_2011_list = []\n",
    "\n",
    "# Iterate over the original DataFrame and extract the values\n",
    "for index, row in df.iterrows():\n",
    "    location = row['Location']\n",
    "    if row['Census'] == 2001:\n",
    "        population_2001 = row['Population']\n",
    "    else:\n",
    "        population_2011 = row['Population']\n",
    "        \n",
    "        # Add the location to the list if it's not already present\n",
    "        if location not in location_list:\n",
    "            location_list.append(location)\n",
    "        \n",
    "        # Append the values to the lists\n",
    "        population_2001_list.append(population_2001)\n",
    "        population_2011_list.append(population_2011)\n",
    "\n",
    "# Create a new DataFrame with the extracted values\n",
    "df_new = pd.DataFrame({\n",
    "    'Location': location_list,\n",
    "    '2001-population': population_2001_list,\n",
    "    '2011-population': population_2011_list\n",
    "})\n",
    "\n",
    "# Save the transposed data to a new CSV file\n",
    "df_new.to_csv(\"C:\\\\Users\\\\thesp\\\\Desktop\\\\23 A-2 Madhya Pradesh (1)F.csv\", index=False)\n"
   ]
  },
  {
   "cell_type": "code",
   "execution_count": null,
   "id": "30f9d1dc",
   "metadata": {},
   "outputs": [],
   "source": [
    "\n",
    "\n",
    "def calculate_percentage_change(value1, value2):\n",
    "    return ((value2 - value1) / value1) * 100\n",
    "\n",
    "# Open the input CSV file\n",
    "with open(\"C:\\\\Users\\\\thesp\\\\Desktop\\\\IGT PROJECT\\\\CSV\\\\merged.csv\", 'r') as file:\n",
    "    reader = csv.reader(file)\n",
    "    rows = list(reader)\n",
    "    \n",
    "    # Calculate percentage change and add a new column\n",
    "    header = rows[0]\n",
    "    header.append('Percentage Change')\n",
    "    \n",
    "    for row in rows[1:]:\n",
    "        population_2001 = int(row[1].replace(',', ''))\n",
    "        population_2011 = int(row[2].replace(',', ''))\n",
    "        percentage_change = calculate_percentage_change(population_2001, population_2011)\n",
    "        row.append(percentage_change)\n",
    "    \n",
    "    # Write the updated rows to a new CSV file\n",
    "    with open(\"C:\\\\Users\\\\thesp\\\\Desktop\\\\IGT PROJECT\\\\CSV\\\\mergedF.csv\", 'w', newline='') as output_file:\n",
    "        writer = csv.writer(output_file)\n",
    "        writer.writerows(rows)"
   ]
  },
  {
   "cell_type": "code",
   "execution_count": null,
   "id": "d3b00a53",
   "metadata": {},
   "outputs": [],
   "source": []
  },
  {
   "cell_type": "code",
   "execution_count": null,
   "id": "0bc95ee8",
   "metadata": {},
   "outputs": [],
   "source": []
  }
 ],
 "metadata": {
  "kernelspec": {
   "display_name": "Python 3 (ipykernel)",
   "language": "python",
   "name": "python3"
  },
  "language_info": {
   "codemirror_mode": {
    "name": "ipython",
    "version": 3
   },
   "file_extension": ".py",
   "mimetype": "text/x-python",
   "name": "python",
   "nbconvert_exporter": "python",
   "pygments_lexer": "ipython3",
   "version": "3.8.10"
  }
 },
 "nbformat": 4,
 "nbformat_minor": 5
}
