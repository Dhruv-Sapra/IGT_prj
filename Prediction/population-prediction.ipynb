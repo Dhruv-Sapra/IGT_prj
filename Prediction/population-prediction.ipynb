{
 "cells": [
  {
   "cell_type": "code",
   "execution_count": null,
   "id": "814e9a68",
   "metadata": {},
   "outputs": [],
   "source": [
    "#Data analysis of India population\n",
    "import pandas as pd\n",
    "import numpy as np\n",
    "import matplotlib.pyplot as plt"
   ]
  },
  {
   "cell_type": "code",
   "execution_count": null,
   "id": "cbfa30ea",
   "metadata": {},
   "outputs": [],
   "source": [
    "#import dataset\n",
    "df=pd.read_csv(\"C:\\\\Users\\\\thesp\\\\Desktop\\\\IGT PROJECT\\\\CSV\\\\Prediction\\\\India_population_2023.csv\")\n",
    "X=df.iloc[:, :-1]\n",
    "y=df.iloc[:, 1]"
   ]
  },
  {
   "cell_type": "code",
   "execution_count": null,
   "id": "323dc25c",
   "metadata": {},
   "outputs": [],
   "source": [
    "\n",
    "#spliting dataset into two part trainingset & test set\n",
    "from sklearn.model_selection import train_test_split\n",
    "X_train,X_test,y_train ,y_test =train_test_split(X, y, test_size=0.2 ,random_state=0)\n"
   ]
  },
  {
   "cell_type": "code",
   "execution_count": null,
   "id": "8d506c1e",
   "metadata": {},
   "outputs": [],
   "source": [
    "\n",
    "#train the model using linear regression\n",
    "from sklearn.linear_model import LinearRegression\n",
    "regressor=LinearRegression()\n",
    "regressor.fit(X_train,y_train)"
   ]
  },
  {
   "cell_type": "code",
   "execution_count": null,
   "id": "3282bc60",
   "metadata": {},
   "outputs": [],
   "source": [
    "\n",
    "#predict the testset result\n",
    "y_pred=regressor.predict(X_test)\n",
    "print(X_test, y_pred)\n"
   ]
  },
  {
   "cell_type": "code",
   "execution_count": null,
   "id": "ab4eb018",
   "metadata": {},
   "outputs": [],
   "source": [
    "# Custom year for prediction\n",
    "custom_year = 2020\n",
    "custom_population = regressor.predict([[custom_year]])\n",
    "\n",
    "print(\"Predicted population for year\", custom_year, \":\", custom_population[0])"
   ]
  },
  {
   "cell_type": "code",
   "execution_count": null,
   "id": "04e4cf34",
   "metadata": {},
   "outputs": [],
   "source": [
    "# Prediction for a range of years\n",
    "start_year = 2010\n",
    "end_year = 2020\n",
    "\n",
    "# Create an empty DataFrame to store the results\n",
    "results_df = pd.DataFrame(columns=['Year', 'Population'])\n",
    "\n",
    "# Predict population for each year and store in the DataFrame\n",
    "for year in range(start_year, end_year + 1):\n",
    "    predicted_population = regressor.predict([[year]])\n",
    "    results_df = pd.concat([results_df, pd.DataFrame({'Year': [year], 'Population': predicted_population[0]})], ignore_index=True)\n",
    "# Save the results DataFrame to a CSV file\n",
    "results_df.to_csv(\"C:\\\\Users\\\\thesp\\\\Desktop\\\\IGT PROJECT\\\\CSV\\\\Prediction\\\\India_pop_prediction.csv\", index=False)"
   ]
  },
  {
   "cell_type": "code",
   "execution_count": null,
   "id": "0128036d",
   "metadata": {},
   "outputs": [],
   "source": [
    "\n",
    "# Visualising the Training set results\n",
    "plt.scatter(X_train, y_train, color = 'red')\n",
    "plt.plot(X_train, regressor.predict(X_train), color = 'blue')\n",
    "plt.title('year vs population (Training set)')\n",
    "plt.xlabel('Years')\n",
    "plt.ylabel('population')\n",
    "plt.show()"
   ]
  },
  {
   "cell_type": "code",
   "execution_count": null,
   "id": "7e3a8a95",
   "metadata": {},
   "outputs": [],
   "source": [
    "\n",
    "# Visualising the Test set results\n",
    "plt.scatter(X_test, y_test, color = 'red')\n",
    "plt.plot(X_train, regressor.predict(X_train), color = 'blue')\n",
    "plt.title('year vs population (Test set)')\n",
    "plt.xlabel('Years')\n",
    "plt.ylabel('population')\n",
    "plt.show()\n"
   ]
  },
  {
   "cell_type": "code",
   "execution_count": null,
   "id": "9b60aa90",
   "metadata": {},
   "outputs": [],
   "source": []
  }
 ],
 "metadata": {
  "kernelspec": {
   "display_name": "Python 3 (ipykernel)",
   "language": "python",
   "name": "python3"
  },
  "language_info": {
   "codemirror_mode": {
    "name": "ipython",
    "version": 3
   },
   "file_extension": ".py",
   "mimetype": "text/x-python",
   "name": "python",
   "nbconvert_exporter": "python",
   "pygments_lexer": "ipython3",
   "version": "3.8.10"
  }
 },
 "nbformat": 4,
 "nbformat_minor": 5
}
